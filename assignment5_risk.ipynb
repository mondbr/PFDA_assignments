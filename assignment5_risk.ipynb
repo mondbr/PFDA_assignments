{
 "cells": [
  {
   "cell_type": "markdown",
   "metadata": {},
   "source": [
    "# Programming for Data Analytics - Assignment 5 - risk\n",
    "\n",
    "************************\n",
    "*Task 05 of the assessment - Risk game*  <img src=\"https://w7.pngwing.com/pngs/402/641/png-transparent-dice-gambling-graphy-cube-two-dice-game-white-casino.png\" width=5% height=5%>\n",
    "************************"
   ]
  },
  {
   "cell_type": "markdown",
   "metadata": {},
   "source": [
    "The program should simulates 1000 individual battle rounds in Risk (3 attacker vs 2 defender) and plots the result.\n",
    "One battle round is one shake of the attacker and defender dice."
   ]
  },
  {
   "cell_type": "markdown",
   "metadata": {},
   "source": [
    "*Rules of Risk*\n",
    "\n",
    "In Risk one army fights another. (using 6 sided dice)\n",
    "\n",
    "In each battle round, the attacker can put forward up to three of their troops (3 dice).\n",
    "\n",
    "The defender can use up to two of their defending troops (2 dice).\n",
    "\n",
    "Each side looses troops depending on the following rules:\n",
    "\n",
    "1. The two top dice dice are compared (ie the attackers top dice roll with the defenders top dice roll) \n",
    "    - If the attackers dice is the same or lower they loose one troop otherwise the defender looses a troop (ie if the attackers dice is higher)\n",
    "2. The next two highest dice from each side are then compared (ie the attackers second highest to the defenders second highest)\n",
    "    - If the attackers dice is the same or lower they loose one troop otherwise the defender looses a troop (ie if the attackers dice is higher)"
   ]
  },
  {
   "cell_type": "markdown",
   "metadata": {},
   "source": [
    "***********"
   ]
  },
  {
   "cell_type": "markdown",
   "metadata": {},
   "source": [
    "Import nessesary libraries:"
   ]
  },
  {
   "cell_type": "code",
   "execution_count": 20,
   "metadata": {},
   "outputs": [],
   "source": [
    "import numpy as np\n",
    "import matplotlib.pyplot as plt"
   ]
  },
  {
   "cell_type": "markdown",
   "metadata": {},
   "source": [
    "Simulation of single round of the battle:\n",
    "\n",
    "The attacker rolls 3 dice, and the defender rolls 2 dice.\n",
    "The losses for both sides are returned.\n",
    "\n",
    "I am creating a function `battle_round()`."
   ]
  },
  {
   "cell_type": "markdown",
   "metadata": {},
   "source": [
    "The attacker rolls 3 dice using `np.random.randint(1, 7, 3)`, which generates 3 random integers between 1 and 6. Then by using `np.sort(...)[::-1][:2]` I am sorting the dice in descending order and picking the top 2 dice."
   ]
  },
  {
   "cell_type": "markdown",
   "metadata": {},
   "source": [
    "We use similar for the defender `np.random.randint(1, 7, 2)` so selecting the top 2 sorted dice."
   ]
  },
  {
   "cell_type": "markdown",
   "metadata": {},
   "source": [
    "To initiate start, we need to set up a value for beginning of the round for the players. I set them to zero, as I will be now comparing the dice rolls. \n"
   ]
  },
  {
   "cell_type": "markdown",
   "metadata": {},
   "source": [
    "Then, I need to compare the first highest dice of the attacker versus first highest dice of the defender. For example if the attacker dice is higher than the defender dice, the defender loses a troop. After that I need to check second dice (second from the array), as the defender can defend with up to 2 troops. The second highest dice of the attacker is compared with the second highest dice of the defender."
   ]
  },
  {
   "cell_type": "code",
   "execution_count": null,
   "metadata": {},
   "outputs": [],
   "source": [
    "def battle_round():\n",
    "    # Attacker rolls 3 dice, defender rolls 2 dice\n",
    "    attacker = np.sort(np.random.randint(1, 7, 3))[::-1][:2]  # selecting top 2 after sorting random int\n",
    "    defender = np.sort(np.random.randint(1, 7, 2))[::-1]      # selecting top 2 after sorting random int, only two dices \n",
    "\n",
    "    attacker_losses = 0 # set up a value for beginning\n",
    "    defender_losses = 0 # set up a value for beginning\n",
    "\n",
    "    if attacker[0] <= defender[0]:\n",
    "        attacker_losses += 1  # Attacker loses a troop\n",
    "    else:\n",
    "        defender_losses += 1  # Defender loses a troop\n",
    "\n",
    "    # Compare the second highest dice\n",
    "    if attacker[1] <= defender[1]:\n",
    "        attacker_losses += 1  # Attacker loses a troop\n",
    "    else:\n",
    "        defender_losses += 1  # Defender loses a troop\n"
   ]
  }
 ],
 "metadata": {
  "kernelspec": {
   "display_name": "base",
   "language": "python",
   "name": "python3"
  },
  "language_info": {
   "codemirror_mode": {
    "name": "ipython",
    "version": 3
   },
   "file_extension": ".py",
   "mimetype": "text/x-python",
   "name": "python",
   "nbconvert_exporter": "python",
   "pygments_lexer": "ipython3",
   "version": "3.11.10"
  }
 },
 "nbformat": 4,
 "nbformat_minor": 2
}
