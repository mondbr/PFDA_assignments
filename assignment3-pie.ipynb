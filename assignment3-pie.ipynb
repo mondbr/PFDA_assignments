{
 "cells": [
  {
   "cell_type": "markdown",
   "metadata": {},
   "source": [
    "# Programming for Data Analytics - Assignment 3 - pie\n",
    "\n",
    "************************\n",
    "*Task 03 of the assessment - pie chart of the email domains* \n",
    "************************"
   ]
  },
  {
   "cell_type": "code",
   "execution_count": 2,
   "metadata": {},
   "outputs": [
    {
     "name": "stdout",
     "output_type": "stream",
     "text": [
      "    Index          User Id First Name  Last Name     Sex  \\\n",
      "0       1  88F7B33d2bcf9f5     Shelby    Terrell    Male   \n",
      "1       2  f90cD3E76f1A9b9    Phillip    Summers  Female   \n",
      "2       3  DbeAb8CcdfeFC2c   Kristine     Travis    Male   \n",
      "3       4  A31Bee3c201ef58    Yesenia   Martinez    Male   \n",
      "4       5  1bA7A3dc874da3c       Lori       Todd    Male   \n",
      "..    ...              ...        ...        ...     ...   \n",
      "95     96  5eFda7caAeB260E     Dennis     Barnes  Female   \n",
      "96     97  CCbFce93d3720bE      Steve  Patterson  Female   \n",
      "97     98  2fEc528aFAF0b69     Wesley       Bray    Male   \n",
      "98     99  Adc7ad9B6e4A1Fe     Summer   Oconnell  Female   \n",
      "99    100  b8D0aD3490FC7e1     Mariah    Bernard    Male   \n",
      "\n",
      "                         Email                   Phone Date of birth  \\\n",
      "0         elijah57@example.net  001-084-906-7849x73518    1945-10-26   \n",
      "1        bethany14@example.com       214.112.6044x4913    1910-03-24   \n",
      "2        bthompson@example.com            277.609.7938    1992-07-02   \n",
      "3    kaitlinkaiser@example.com            584.094.6111    2017-08-03   \n",
      "4   buchananmanuel@example.net       689-207-3558x7233    1938-12-01   \n",
      "..                         ...                     ...           ...   \n",
      "95         bmartin@example.org    001-095-524-2112x257    1954-07-30   \n",
      "96       latasha46@example.net        001-865-478-5157    1932-04-29   \n",
      "97        regina11@example.org      995-542-3004x76800    1994-12-28   \n",
      "98  alexiscantrell@example.org    001-273-685-6932x092    2012-04-12   \n",
      "99       pcopeland@example.org     (341)594-6554x44657    2016-11-15   \n",
      "\n",
      "                Job Title  \n",
      "0         Games developer  \n",
      "1          Phytotherapist  \n",
      "2               Homeopath  \n",
      "3       Market researcher  \n",
      "4      Veterinary surgeon  \n",
      "..                    ...  \n",
      "95      Software engineer  \n",
      "96              Barrister  \n",
      "97         Police officer  \n",
      "98   Broadcast journalist  \n",
      "99  IT sales professional  \n",
      "\n",
      "[100 rows x 9 columns]\n"
     ]
    }
   ],
   "source": [
    "import pandas as pd\n",
    "\n",
    "DATADIR = './data_files/'\n",
    "FILENAME = 'people-100.csv'\n",
    "df = pd.read_csv(DATADIR+FILENAME)\n",
    "\n",
    "print(df)"
   ]
  }
 ],
 "metadata": {
  "kernelspec": {
   "display_name": "base",
   "language": "python",
   "name": "python3"
  },
  "language_info": {
   "codemirror_mode": {
    "name": "ipython",
    "version": 3
   },
   "file_extension": ".py",
   "mimetype": "text/x-python",
   "name": "python",
   "nbconvert_exporter": "python",
   "pygments_lexer": "ipython3",
   "version": "3.11.5"
  }
 },
 "nbformat": 4,
 "nbformat_minor": 2
}
