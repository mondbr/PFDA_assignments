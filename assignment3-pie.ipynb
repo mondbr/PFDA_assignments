{
 "cells": [
  {
   "cell_type": "markdown",
   "metadata": {},
   "source": [
    "# Programming for Data Analytics - Assignment 3 - pie\n",
    "\n",
    "************************\n",
    "*Task 03 of the assessment - pie chart of the email domains* \n",
    "************************"
   ]
  },
  {
   "cell_type": "code",
   "execution_count": 3,
   "metadata": {},
   "outputs": [
    {
     "name": "stdout",
     "output_type": "stream",
     "text": [
      "     Index          User Id First Name Last Name     Sex  \\\n",
      "0        1  8717bbf45cCDbEe     Shelia   Mahoney    Male   \n",
      "1        2  3d5AD30A4cD38ed         Jo    Rivers  Female   \n",
      "2        3  810Ce0F276Badec     Sheryl    Lowery  Female   \n",
      "3        4  BF2a889C00f0cE1    Whitney    Hooper    Male   \n",
      "4        5  9afFEafAe1CBBB9    Lindsey      Rice  Female   \n",
      "..     ...              ...        ...       ...     ...   \n",
      "995    996  fedF4c7Fd9e7cFa       Kurt    Bryant  Female   \n",
      "996    997  ECddaFEDdEc4FAB      Donna     Barry  Female   \n",
      "997    998  2adde51d8B8979E      Cathy  Mckinney  Female   \n",
      "998    999  Fb2FE369D1E171A   Jermaine    Phelps    Male   \n",
      "999   1000  8b756f6231DDC6e        Lee      Tran  Female   \n",
      "\n",
      "                             Email                  Phone Date of birth  \\\n",
      "0              pwarner@example.org           857.139.8239    2014-01-27   \n",
      "1    fergusonkatherine@example.net        +1-950-759-8687    1931-07-26   \n",
      "2              fhoward@example.org          (599)782-0605    2013-11-25   \n",
      "3            zjohnston@example.com        +1-939-130-6258    2012-11-17   \n",
      "4                 elin@example.net     (390)417-1635x3010    1923-04-15   \n",
      "..                             ...                    ...           ...   \n",
      "995         lyonsdaisy@example.net           021.775.2933    1959-01-05   \n",
      "996        dariusbryan@example.com   001-149-710-7799x721    2001-10-06   \n",
      "997         georgechan@example.org  +1-750-774-4128x33265    1918-05-13   \n",
      "998            wanda04@example.net          (915)292-2254    1971-08-31   \n",
      "999        deannablack@example.org     079.752.5424x67259    1947-01-24   \n",
      "\n",
      "                           Job Title  \n",
      "0                  Probation officer  \n",
      "1                             Dancer  \n",
      "2                               Copy  \n",
      "3           Counselling psychologist  \n",
      "4                Biomedical engineer  \n",
      "..                               ...  \n",
      "995                Personnel officer  \n",
      "996          Education administrator  \n",
      "997  Commercial/residential surveyor  \n",
      "998                 Ambulance person  \n",
      "999       Nurse, learning disability  \n",
      "\n",
      "[1000 rows x 9 columns]\n"
     ]
    }
   ],
   "source": [
    "import pandas as pd\n",
    "\n",
    "df = pd.read_csv('https://drive.google.com/uc?id=1AWPf-pJodJKeHsARQK_RHiNsE8fjPCVK&export=download')\n",
    "\n",
    "print(df)"
   ]
  }
 ],
 "metadata": {
  "kernelspec": {
   "display_name": "base",
   "language": "python",
   "name": "python3"
  },
  "language_info": {
   "codemirror_mode": {
    "name": "ipython",
    "version": 3
   },
   "file_extension": ".py",
   "mimetype": "text/x-python",
   "name": "python",
   "nbconvert_exporter": "python",
   "pygments_lexer": "ipython3",
   "version": "3.11.5"
  }
 },
 "nbformat": 4,
 "nbformat_minor": 2
}
